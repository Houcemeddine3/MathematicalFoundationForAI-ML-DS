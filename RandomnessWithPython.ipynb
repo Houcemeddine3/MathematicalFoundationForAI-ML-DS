{
  "nbformat": 4,
  "nbformat_minor": 0,
  "metadata": {
    "colab": {
      "private_outputs": true,
      "provenance": [],
      "toc_visible": true,
      "authorship_tag": "ABX9TyNeJPZxfVOWG/G1FzOd0X//",
      "include_colab_link": true
    },
    "kernelspec": {
      "name": "python3",
      "display_name": "Python 3"
    },
    "language_info": {
      "name": "python"
    }
  },
  "cells": [
    {
      "cell_type": "markdown",
      "metadata": {
        "id": "view-in-github",
        "colab_type": "text"
      },
      "source": [
        "<a href=\"https://colab.research.google.com/github/Houcemeddine3/MathematicalFoundationForAI-ML-DS/blob/main/RandomnessWithPython.ipynb\" target=\"_parent\"><img src=\"https://colab.research.google.com/assets/colab-badge.svg\" alt=\"Open In Colab\"/></a>"
      ]
    },
    {
      "cell_type": "markdown",
      "source": [
        "<div align=\"center\">  <font face=\"Arial\" size=\"80\" color=\"blue\"> Randomness with Python   </font> </div>"
      ],
      "metadata": {
        "id": "YjdGDxGvReIO"
      }
    },
    {
      "cell_type": "markdown",
      "source": [
        "\n",
        "\n",
        "<div align=\"right\"> <a href=\"mailto:f.houcemeddine@gmail.com\">Houcemdddine FILALI </a> </div>\n",
        "\n",
        "\n",
        "<div align=\"right\"> <a href=\"mailto:youssefkhlifi2@gmail.com\">Youssef KHLIFI </a> </div>\n",
        "\n",
        "<div align=\"right\"> <a href=\"mailto:maher.boudabra@gmail.com\">Maher BOUDABRA  </a></div>\n",
        "\n",
        "<img src=\"https://github.com/Houcemeddine3/MathematicalFoundationForAI-ML-DS/blob/main/banner.png?raw=1\" />\n"
      ],
      "metadata": {
        "id": "HvittYPgMHrL"
      }
    },
    {
      "cell_type": "markdown",
      "source": [
        "# 1. Introduction to Colab Environment\n"
      ],
      "metadata": {
        "id": "evFkDz0MS2Nk"
      }
    },
    {
      "cell_type": "markdown",
      "source": [],
      "metadata": {
        "id": "ID_hS9hzXMcn"
      }
    },
    {
      "cell_type": "code",
      "source": [],
      "metadata": {
        "id": "f1iTW9zCN5uG"
      },
      "execution_count": null,
      "outputs": []
    },
    {
      "cell_type": "code",
      "execution_count": null,
      "metadata": {
        "id": "S71iT0QnFGnJ"
      },
      "outputs": [],
      "source": []
    },
    {
      "cell_type": "markdown",
      "source": [
        "# 2. Random Variables: Math and Intuition"
      ],
      "metadata": {
        "id": "8Q01diHhTiqO"
      }
    },
    {
      "cell_type": "code",
      "source": [],
      "metadata": {
        "id": "Uur4fDzNTvRZ"
      },
      "execution_count": null,
      "outputs": []
    },
    {
      "cell_type": "code",
      "source": [],
      "metadata": {
        "id": "l1VzdtoRTvgw"
      },
      "execution_count": null,
      "outputs": []
    },
    {
      "cell_type": "markdown",
      "source": [
        "# 3. Simulating Random Variables with Python"
      ],
      "metadata": {
        "id": "jb4ohLjcTuRx"
      }
    },
    {
      "cell_type": "code",
      "source": [],
      "metadata": {
        "id": "0aEkCypIT2l6"
      },
      "execution_count": null,
      "outputs": []
    },
    {
      "cell_type": "code",
      "source": [],
      "metadata": {
        "id": "nIKUTe_oT2om"
      },
      "execution_count": null,
      "outputs": []
    },
    {
      "cell_type": "code",
      "source": [],
      "metadata": {
        "id": "AlqSCT1UT2rK"
      },
      "execution_count": null,
      "outputs": []
    },
    {
      "cell_type": "markdown",
      "source": [
        "# 4. Sampling Random Variables from Distributions\n"
      ],
      "metadata": {
        "id": "9McFdbtjTjDW"
      }
    },
    {
      "cell_type": "code",
      "source": [],
      "metadata": {
        "id": "jGVNF3_JT-LJ"
      },
      "execution_count": null,
      "outputs": []
    },
    {
      "cell_type": "code",
      "source": [],
      "metadata": {
        "id": "rdu_nrTXT_ER"
      },
      "execution_count": null,
      "outputs": []
    },
    {
      "cell_type": "code",
      "source": [],
      "metadata": {
        "id": "J2NYyy1qT_HV"
      },
      "execution_count": null,
      "outputs": []
    },
    {
      "cell_type": "markdown",
      "source": [
        "# 5.  Algorithms for Sampling Random Variables"
      ],
      "metadata": {
        "id": "QLF7FcIHUQVi"
      }
    },
    {
      "cell_type": "code",
      "source": [],
      "metadata": {
        "id": "bSgJruP1UXfl"
      },
      "execution_count": null,
      "outputs": []
    },
    {
      "cell_type": "code",
      "source": [],
      "metadata": {
        "id": "AeiqMUzRUXWH"
      },
      "execution_count": null,
      "outputs": []
    },
    {
      "cell_type": "markdown",
      "source": [
        "# 6. Visualizing Variance and LLN"
      ],
      "metadata": {
        "id": "y2S8OZpmUYMK"
      }
    },
    {
      "cell_type": "code",
      "source": [],
      "metadata": {
        "id": "mZfuxnvXUWNk"
      },
      "execution_count": null,
      "outputs": []
    },
    {
      "cell_type": "code",
      "source": [],
      "metadata": {
        "id": "7XkIeBOFUdyn"
      },
      "execution_count": null,
      "outputs": []
    },
    {
      "cell_type": "code",
      "source": [],
      "metadata": {
        "id": "EPvtf5wDUdgu"
      },
      "execution_count": null,
      "outputs": []
    },
    {
      "cell_type": "code",
      "source": [],
      "metadata": {
        "id": "B6yU5pF4UdX4"
      },
      "execution_count": null,
      "outputs": []
    },
    {
      "cell_type": "markdown",
      "source": [
        "# 7. Understanding the Central Limit Theorem (CLT)"
      ],
      "metadata": {
        "id": "G_ctzvK_UetA"
      }
    },
    {
      "cell_type": "code",
      "source": [],
      "metadata": {
        "id": "1s0zQwPZUlHK"
      },
      "execution_count": null,
      "outputs": []
    },
    {
      "cell_type": "markdown",
      "source": [
        "# 8. Advanced Exercises and Applications"
      ],
      "metadata": {
        "id": "VreOf76-Uq5U"
      }
    },
    {
      "cell_type": "code",
      "source": [],
      "metadata": {
        "id": "2t6agHJKUsuw"
      },
      "execution_count": null,
      "outputs": []
    }
  ]
}