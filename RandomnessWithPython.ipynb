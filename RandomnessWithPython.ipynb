{
  "nbformat": 4,
  "nbformat_minor": 0,
  "metadata": {
    "colab": {
      "private_outputs": true,
      "provenance": [],
      "authorship_tag": "ABX9TyPMiOQMMQmcwF5zTx/ohaPI",
      "include_colab_link": true
    },
    "kernelspec": {
      "name": "python3",
      "display_name": "Python 3"
    },
    "language_info": {
      "name": "python"
    }
  },
  "cells": [
    {
      "cell_type": "markdown",
      "metadata": {
        "id": "view-in-github",
        "colab_type": "text"
      },
      "source": [
        "<a href=\"https://colab.research.google.com/github/Houcemeddine3/MathematicalFoundationForAI-ML-DS/blob/main/RandomnessWithPython.ipynb\" target=\"_parent\"><img src=\"https://colab.research.google.com/assets/colab-badge.svg\" alt=\"Open In Colab\"/></a>"
      ]
    },
    {
      "cell_type": "markdown",
      "source": [
        "<div align=\"center\">  <font face=\"Arial\" size=\"80\" color=\"blue\"> Randomness with Python   </font> </div>"
      ],
      "metadata": {
        "id": "YjdGDxGvReIO"
      }
    },
    {
      "cell_type": "markdown",
      "source": [
        "\n",
        "\n",
        "<div align=\"right\"> <a href=\"mailto:f.houcemeddine@gmail.com\">Houcemdddine FILALI </a> </div>\n",
        "\n",
        "\n",
        "<div align=\"right\"> <a href=\"mailto:youssefkhlifi2@gmail.com\">Youssef KHLIFI </a> </div>\n",
        "\n",
        "<div align=\"right\"> <a href=\"mailto:maher.boudabra@gmail.com\">Maher BOUDABRA  </a></div>\n",
        "\n",
        "<img src=\"https://github.com/Houcemeddine3/MathematicalFoundationForAI-ML-DS/blob/main/banner.png?raw=1\" />\n"
      ],
      "metadata": {
        "id": "HvittYPgMHrL"
      }
    },
    {
      "cell_type": "markdown",
      "source": [],
      "metadata": {
        "id": "evFkDz0MS2Nk"
      }
    },
    {
      "cell_type": "code",
      "source": [],
      "metadata": {
        "id": "f1iTW9zCN5uG"
      },
      "execution_count": null,
      "outputs": []
    },
    {
      "cell_type": "code",
      "execution_count": null,
      "metadata": {
        "id": "S71iT0QnFGnJ"
      },
      "outputs": [],
      "source": []
    }
  ]
}