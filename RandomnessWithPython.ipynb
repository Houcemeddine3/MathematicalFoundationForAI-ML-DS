{
  "nbformat": 4,
  "nbformat_minor": 0,
  "metadata": {
    "colab": {
      "private_outputs": true,
      "provenance": [],
      "authorship_tag": "ABX9TyNxdM0v9VM/nYBbabDEM2px",
      "include_colab_link": true
    },
    "kernelspec": {
      "name": "python3",
      "display_name": "Python 3"
    },
    "language_info": {
      "name": "python"
    }
  },
  "cells": [
    {
      "cell_type": "markdown",
      "metadata": {
        "id": "view-in-github",
        "colab_type": "text"
      },
      "source": [
        "<a href=\"https://colab.research.google.com/github/Houcemeddine3/MathematicalFoundationForAI-ML-DS/blob/main/RandomnessWithPython.ipynb\" target=\"_parent\"><img src=\"https://colab.research.google.com/assets/colab-badge.svg\" alt=\"Open In Colab\"/></a>"
      ]
    },
    {
      "cell_type": "markdown",
      "source": [
        "<div align=\"center\"> <h1> Randomness with Python  </h1> </div>\n",
        "<div align=\"right\"> <a href=\"mailto:f.houcemeddine@gmail.com\">Houcemdddine FILALI </a> </div>\n",
        "<div align=\"right\"> <a href=\"mailto:youssefkhlifi2@gmail.com\">Youssef KHLIFI </a></div>\n",
        "<div align=\"right\"> <a href=\"mailto:maher.boudabra@gmail.com\">Maher BOUDABRA  </a></div>\n",
        "<img src=\"https://github.com/Houcemeddine3/MathematicalFoundationForAI-ML-DS/blob/main/banner?raw=1\" alt=\"Banner Image\" align=\"center\">"
      ],
      "metadata": {
        "id": "HvittYPgMHrL"
      }
    },
    {
      "cell_type": "code",
      "source": [],
      "metadata": {
        "id": "f1iTW9zCN5uG"
      },
      "execution_count": null,
      "outputs": []
    },
    {
      "cell_type": "code",
      "execution_count": null,
      "metadata": {
        "id": "S71iT0QnFGnJ"
      },
      "outputs": [],
      "source": []
    }
  ]
}